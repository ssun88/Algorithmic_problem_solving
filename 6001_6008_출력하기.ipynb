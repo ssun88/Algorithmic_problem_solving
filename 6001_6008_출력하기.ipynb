{
  "nbformat": 4,
  "nbformat_minor": 0,
  "metadata": {
    "colab": {
      "name": "6001-6008_출력하기.ipynb",
      "provenance": [],
      "collapsed_sections": [],
      "authorship_tag": "ABX9TyMzcpxNGWMhYXXnt5AbmnHQ",
      "include_colab_link": true
    },
    "kernelspec": {
      "name": "python3",
      "display_name": "Python 3"
    },
    "language_info": {
      "name": "python"
    }
  },
  "cells": [
    {
      "cell_type": "markdown",
      "metadata": {
        "id": "view-in-github",
        "colab_type": "text"
      },
      "source": [
        "<a href=\"https://colab.research.google.com/github/ssun88/Algorithmic_problem_solving/blob/main/6001_6008_%EC%B6%9C%EB%A0%A5%ED%95%98%EA%B8%B0.ipynb\" target=\"_parent\"><img src=\"https://colab.research.google.com/assets/colab-badge.svg\" alt=\"Open In Colab\"/></a>"
      ]
    },
    {
      "cell_type": "markdown",
      "source": [
        "### 6001: [기초-출력] 출력하기01\n",
        "\n",
        "---------------------------------------------------\n",
        "\n",
        "    시간 제한: 1 Sec  메모리 제한: 128 MB  \n",
        "    제출: 70963  해결 문제 수: 52200\n",
        "\n",
        "---------------------------------------------------  \n",
        "\n",
        "python 언어에서 가장 기본적인 명령이 출력문이다.  \n",
        "print( )를 이용해 다음 단어를 출력하시오.  \n",
        "<br>\n",
        "Hello"
      ],
      "metadata": {
        "id": "0JlEkXcKfS7m"
      }
    },
    {
      "cell_type": "markdown",
      "source": [
        "#### 풀이"
      ],
      "metadata": {
        "id": "RCpT9HlWgMbe"
      }
    },
    {
      "cell_type": "code",
      "execution_count": 1,
      "metadata": {
        "colab": {
          "base_uri": "https://localhost:8080/"
        },
        "id": "aeRyIx5LfK2l",
        "outputId": "0b60b2de-81a1-44f4-bbbc-f93ea2d15ffb"
      },
      "outputs": [
        {
          "output_type": "stream",
          "name": "stdout",
          "text": [
            "Hello\n"
          ]
        }
      ],
      "source": [
        "print('Hello')"
      ]
    },
    {
      "cell_type": "markdown",
      "source": [
        "#### 결과  \n",
        "\n",
        "    6001번 / - / Python / 정확한 풀이\n",
        "    코드 길이:14 byte(s) / 수행 시간:13 ms / 메모리 :27724 kb\n"
      ],
      "metadata": {
        "id": "Cl0_QhQUf_77"
      }
    },
    {
      "cell_type": "markdown",
      "source": [
        "### 6002: [기초-출력] 출력하기02\n",
        "\n",
        "---------------------------------------------------\n",
        "\n",
        "    시간 제한: 1 Sec  메모리 제한: 128 MB  \n",
        "    제출: 61712  해결 문제 수: 46058\n",
        "\n",
        "---------------------------------------------------  \n",
        "\n",
        "이번에는 공백( )을 포함한 문장을 출력한다.  \n",
        "다음 문장을 출력해보자.\n",
        "<br>  \n",
        "Hello World  \n",
        "(대소문자에 주의한다.)"
      ],
      "metadata": {
        "id": "q9gwU-zggakN"
      }
    },
    {
      "cell_type": "code",
      "source": [
        "print('Hello World')"
      ],
      "metadata": {
        "colab": {
          "base_uri": "https://localhost:8080/"
        },
        "id": "BmWF6-rAf-11",
        "outputId": "a83d14a4-7c79-4cc0-bfb9-4d324658d5cc"
      },
      "execution_count": 2,
      "outputs": [
        {
          "output_type": "stream",
          "name": "stdout",
          "text": [
            "Hello World\n"
          ]
        }
      ]
    },
    {
      "cell_type": "markdown",
      "source": [
        "#### 결과  \n",
        "\n",
        "    6002번 / - / Python / 정확한 풀이\n",
        "    코드 길이:20 byte(s) / 수행 시간:13 ms / 메모리 :27724 kb\n"
      ],
      "metadata": {
        "id": "X3N-f-UAIv43"
      }
    },
    {
      "cell_type": "markdown",
      "source": [
        "### 6003: [기초-출력] 출력하기03\n",
        "\n",
        "---------------------------------------------------\n",
        "\n",
        "    시간 제한: 1 Sec  메모리 제한: 128 MB  \n",
        "    제출: 53234  해결 문제 수: 44118\n",
        "\n",
        "---------------------------------------------------  \n",
        "\n",
        "이번에는 줄을 바꿔 출력하는 출력문을 연습해보자.  \n",
        "다음과 같이 줄을 바꿔 출력해야 한다.  \n",
        "<br>\n",
        "Hello  \n",
        "World  \n",
        "(두 줄에 걸쳐 줄을 바꿔 출력)"
      ],
      "metadata": {
        "id": "tZaqCkeNI8vD"
      }
    },
    {
      "cell_type": "code",
      "source": [
        "print('Hello\\nWorld')"
      ],
      "metadata": {
        "colab": {
          "base_uri": "https://localhost:8080/"
        },
        "id": "faKcLBziIjUz",
        "outputId": "e691e315-4094-4161-b2d7-b7c03a42fbe2"
      },
      "execution_count": 4,
      "outputs": [
        {
          "output_type": "stream",
          "name": "stdout",
          "text": [
            "Hello\n",
            "World\n"
          ]
        }
      ]
    },
    {
      "cell_type": "markdown",
      "source": [
        "#### 결과  \n",
        "\n",
        "    6003번 / - / Python / 정확한 풀이\n",
        "    코드 길이:21 byte(s) / 수행 시간:15 ms / 메모리 :27724 kb"
      ],
      "metadata": {
        "id": "-4Gdc5fNKqhe"
      }
    },
    {
      "cell_type": "markdown",
      "source": [
        "### 6004: [기초-출력] 출력하기04\n",
        "\n",
        "---------------------------------------------------\n",
        "\n",
        "    시간 제한: 1 Sec  메모리 제한: 128 MB  \n",
        "    제출: 60058  해결 문제 수: 41028\n",
        "\n",
        "---------------------------------------------------  \n",
        "\n",
        "이번에는 작은 따옴표(')(single quotation mark)가 들어있는\n",
        "출력문 연습을 해보자.  \n",
        "\n",
        "다음 문장을 출력하시오.  \n",
        "<br> \n",
        "'Hello'\n"
      ],
      "metadata": {
        "id": "WT3mW1knKzWW"
      }
    },
    {
      "cell_type": "code",
      "source": [
        "print(\"'Hello'\")"
      ],
      "metadata": {
        "colab": {
          "base_uri": "https://localhost:8080/"
        },
        "id": "Rc2PThsQKRX5",
        "outputId": "added634-a586-4aff-891a-6c3359312b9c"
      },
      "execution_count": 5,
      "outputs": [
        {
          "output_type": "stream",
          "name": "stdout",
          "text": [
            "'Hello'\n"
          ]
        }
      ]
    },
    {
      "cell_type": "markdown",
      "source": [
        "#### 결과  \n",
        "\n",
        "    6004번 / - / Python / 정확한 풀이\n",
        "    코드 길이:16 byte(s) / 수행 시간:14 ms / 메모리 :27724 kb"
      ],
      "metadata": {
        "id": "MYfbhWLWLX-A"
      }
    },
    {
      "cell_type": "markdown",
      "source": [
        "### 6005: [기초-출력] 출력하기05\n",
        "\n",
        "---------------------------------------------------\n",
        "\n",
        "    시간 제한: 1 Sec  메모리 제한: 128 MB  \n",
        "    제출: 66257  해결 문제 수: 40407\n",
        "\n",
        "---------------------------------------------------  \n",
        "\n",
        "이번에는 큰따옴표(\")(double quotation mark)가 포함된 출력문을 연습해보자.  \n",
        "  \n",
        "다음 문장을 출력하시오.  \n",
        "<br>\n",
        "\"Hello World\"  \n",
        "(단, 큰따옴표도 함께 출력한다.)\n"
      ],
      "metadata": {
        "id": "AmrjSXtFLc19"
      }
    },
    {
      "cell_type": "code",
      "source": [
        "print('\"Hello World\"')"
      ],
      "metadata": {
        "colab": {
          "base_uri": "https://localhost:8080/"
        },
        "id": "G9gwAiN5LQsR",
        "outputId": "0d5ebc29-8d0c-4f72-cfce-802c2ba841dc"
      },
      "execution_count": 6,
      "outputs": [
        {
          "output_type": "stream",
          "name": "stdout",
          "text": [
            "\"Hello World\"\n"
          ]
        }
      ]
    },
    {
      "cell_type": "markdown",
      "source": [
        "#### 결과  \n",
        "\n",
        "    6005번 / - / Python / 정확한 풀이\n",
        "    코드 길이:22 byte(s) / 수행 시간:16 ms / 메모리 :27724 kb"
      ],
      "metadata": {
        "id": "qsx17J-FL0y1"
      }
    },
    {
      "cell_type": "markdown",
      "source": [
        "### 6006: [기초-출력] 출력하기06\n",
        "\n",
        "---------------------------------------------------\n",
        "\n",
        "    시간 제한: 1 Sec  메모리 제한: 128 MB  \n",
        "    제출: 109491  해결 문제 수: 36868\n",
        "\n",
        "---------------------------------------------------  \n",
        "\n",
        "이번에는 특수문자 출력에 도전하자!!  \n",
        "  \n",
        "다음 문장을 출력하시오.  \n",
        "<br>\n",
        "\"!@#$%^&*()'  \n",
        "(단, 큰따옴표와 작은따옴표도 함께 출력한다.)\n"
      ],
      "metadata": {
        "id": "Ys8A7RhtMXVU"
      }
    },
    {
      "cell_type": "code",
      "source": [
        "print('\"!@#$%^&*()\\'')"
      ],
      "metadata": {
        "colab": {
          "base_uri": "https://localhost:8080/"
        },
        "id": "NHg97KMvL0AS",
        "outputId": "41450763-c96f-4781-eb5c-3a8897da1316"
      },
      "execution_count": 7,
      "outputs": [
        {
          "output_type": "stream",
          "name": "stdout",
          "text": [
            "\"!@#$%^&*()'\n"
          ]
        }
      ]
    },
    {
      "cell_type": "markdown",
      "source": [
        "#### 결과  \n",
        "\n",
        "    6006번 / - / Python / 정확한 풀이\n",
        "    코드 길이:22 byte(s) / 수행 시간:13 ms / 메모리 :27724 kb"
      ],
      "metadata": {
        "id": "LoDJUHb9M4-i"
      }
    },
    {
      "cell_type": "markdown",
      "source": [
        "### 6007: [기초-출력] 출력하기07\n",
        "\n",
        "---------------------------------------------------\n",
        "\n",
        "    시간 제한: 1 Sec  메모리 제한: 128 MB  \n",
        "    제출: 105025  해결 문제 수: 34000\n",
        "\n",
        "---------------------------------------------------  \n",
        "\n",
        "윈도우 운영체제의 파일 경로를 출력하는 연습을 해보자.  \n",
        " \n",
        "파일 경로에는 특수문자들이 포함된다.   \n",
        "\n",
        "다음 경로를 출력하시오.  \n",
        "<br>\n",
        "\"C:\\Download\\\\'hello'.py\"  \n",
        "(단, 따옴표도 함께 출력한다.)"
      ],
      "metadata": {
        "id": "o2mrosg1NCNC"
      }
    },
    {
      "cell_type": "code",
      "source": [
        "print('\"C:\\\\Download\\\\\\'hello\\'.py\"')"
      ],
      "metadata": {
        "colab": {
          "base_uri": "https://localhost:8080/"
        },
        "id": "zJy9KH_mM2JS",
        "outputId": "7396aeed-30b5-4f0f-b9ba-e0599b674f86"
      },
      "execution_count": 9,
      "outputs": [
        {
          "output_type": "stream",
          "name": "stdout",
          "text": [
            "\"C:\\Download\\'hello'.py\"\n"
          ]
        }
      ]
    },
    {
      "cell_type": "markdown",
      "source": [
        "#### 결과  \n",
        "\n",
        "    6007번 / - / Python / 정확한 풀이\n",
        "    코드 길이:37 byte(s) / 수행 시간:14 ms / 메모리 :27724 kb"
      ],
      "metadata": {
        "id": "e_ybc5VtNGKv"
      }
    },
    {
      "cell_type": "markdown",
      "source": [
        "### 6008: [기초-출력] 출력하기08\n",
        "\n",
        "---------------------------------------------------\n",
        "\n",
        "    시간 제한: 1 Sec  메모리 제한: 128 MB  \n",
        "    제출: 84917  해결 문제 수: 32023\n",
        "\n",
        "---------------------------------------------------  \n",
        "\n",
        "출력문 연습의 마지막 문제이다.  \n",
        "(생각과 시도를 많이 해야하는 문제들은 한 두 문제씩 넘겼다가 나중에 풀어보면 된다.)\n",
        "\n",
        "이번에는 다음과 같은 python프로그램의 소스코드를 출력해보자.  \n",
        "<br>\n",
        "print(\"Hello\\nWorld\")  \n",
        "<br>\n",
        "위 코드를 정확히 그대로 출력하시오.(공백문자 주의)"
      ],
      "metadata": {
        "id": "jNLDMD_nNDjf"
      }
    },
    {
      "cell_type": "code",
      "source": [
        "print('print(\"Hello\\\\nWorld\")')"
      ],
      "metadata": {
        "colab": {
          "base_uri": "https://localhost:8080/"
        },
        "id": "PoIbD5mfNHKX",
        "outputId": "b34d2b5f-b8b2-45b5-c01a-6154048cd749"
      },
      "execution_count": 10,
      "outputs": [
        {
          "output_type": "stream",
          "name": "stdout",
          "text": [
            "print(\"Hello\\nWorld\")\n"
          ]
        }
      ]
    },
    {
      "cell_type": "markdown",
      "source": [
        "#### 결과  \n",
        "\n",
        "    6008번 / - / Python / 정확한 풀이\n",
        "    코드 길이:31 byte(s) / 수행 시간:13 ms / 메모리 :27724 kb"
      ],
      "metadata": {
        "id": "OQKZ9A80NH8R"
      }
    }
  ]
}